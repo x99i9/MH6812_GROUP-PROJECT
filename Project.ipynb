{
 "cells": [
  {
   "cell_type": "code",
   "execution_count": 4,
   "metadata": {},
   "outputs": [
    {
     "name": "stderr",
     "output_type": "stream",
     "text": [
      "[nltk_data] Downloading package stopwords to\n",
      "[nltk_data]     C:\\Users\\admin\\AppData\\Roaming\\nltk_data...\n",
      "[nltk_data]   Package stopwords is already up-to-date!\n",
      "[nltk_data] Downloading package punkt to\n",
      "[nltk_data]     C:\\Users\\admin\\AppData\\Roaming\\nltk_data...\n",
      "[nltk_data]   Package punkt is already up-to-date!\n",
      "[nltk_data] Downloading package wordnet to\n",
      "[nltk_data]     C:\\Users\\admin\\AppData\\Roaming\\nltk_data...\n",
      "[nltk_data]   Package wordnet is already up-to-date!\n"
     ]
    }
   ],
   "source": [
    "# Python libraries\n",
    "import datetime as dt\n",
    "import re\n",
    "import pickle\n",
    "from tqdm.notebook import tqdm\n",
    "import os\n",
    "import sys\n",
    "import time\n",
    "import logging\n",
    "import random\n",
    "import json\n",
    "from collections import defaultdict, Counter\n",
    "\n",
    "# Data Science modules\n",
    "import numpy as np\n",
    "import pandas as pd\n",
    "import matplotlib.pyplot as plt\n",
    "import seaborn as sns; sns.set()\n",
    "plt.style.use('ggplot')\n",
    "\n",
    "# Import Scikit-learn moduels\n",
    "from sklearn.feature_extraction.text import CountVectorizer, TfidfVectorizer\n",
    "from sklearn.metrics import accuracy_score, f1_score\n",
    "from sklearn.pipeline import Pipeline, FeatureUnion\n",
    "from sklearn.ensemble import RandomForestClassifier\n",
    "from sklearn.linear_model import LogisticRegression, Perceptron, SGDClassifier\n",
    "from sklearn.tree import DecisionTreeClassifier\n",
    "from sklearn import model_selection\n",
    "from sklearn.model_selection import GridSearchCV, cross_val_score, cross_validate, StratifiedKFold, learning_curve, RandomizedSearchCV\n",
    "from sklearn.preprocessing import LabelEncoder\n",
    "from sklearn.metrics import classification_report, confusion_matrix, roc_curve, roc_auc_score, precision_recall_curve, average_precision_score\n",
    "\n",
    "# Import nltk modules and download dataset\n",
    "import nltk\n",
    "from nltk.corpus import stopwords\n",
    "from nltk.util import ngrams\n",
    "from nltk.tokenize import word_tokenize\n",
    "nltk.download('stopwords')\n",
    "nltk.download('punkt')\n",
    "nltk.download('wordnet')\n",
    "stop = set(stopwords.words('english'))"
   ]
  },
  {
   "cell_type": "code",
   "execution_count": 5,
   "metadata": {},
   "outputs": [],
   "source": [
    "\n",
    "import torch"
   ]
  },
  {
   "cell_type": "code",
   "execution_count": 23,
   "metadata": {},
   "outputs": [
    {
     "name": "stdout",
     "output_type": "stream",
     "text": [
      "检测到的文件编码: ISO-8859-1\n"
     ]
    }
   ],
   "source": [
    "import chardet\n",
    "\n",
    "def detect_encoding(filename):\n",
    "    with open(filename, 'rb') as f:\n",
    "        raw_data = f.read(10000)  # 读取前10000字节用于检测\n",
    "        result = chardet.detect(raw_data)\n",
    "    return result['encoding']\n",
    "\n",
    "file_encoding = detect_encoding(filename)\n",
    "print(f\"检测到的文件编码: {file_encoding}\")"
   ]
  },
  {
   "cell_type": "code",
   "execution_count": 19,
   "metadata": {},
   "outputs": [
    {
     "name": "stdout",
     "output_type": "stream",
     "text": [
      "Total number of records in the file: 3453\n",
      "Total number of records after dropping duplicates: 3448\n",
      "Missing labels: 0\n",
      "                                            sentence     label\n",
      "0  According to Gran , the company has no plans t...   neutral\n",
      "1  With the new production plant the company woul...  positive\n",
      "2  For the last quarter of 2010 , Componenta 's n...  positive\n",
      "3  In the third quarter of 2010 , net sales incre...  positive\n",
      "4  Operating profit rose to EUR 13.1 mn from EUR ...  positive\n"
     ]
    }
   ],
   "source": [
    "# Define the file name\n",
    "filename = 'Sentences_75Agree.txt'  # Specify the target file\n",
    "\n",
    "def load_finphrase(filename):\n",
    "    ''' \n",
    "    Clean and process the FinancialPhraseBank data\n",
    "    Input:\n",
    "        - filename: The name of the file to load\n",
    "    Output:\n",
    "        - DataFrame: The loaded and cleaned FinancialPhraseBank data\n",
    "    '''\n",
    "    try:\n",
    "        # Read the file\n",
    "        df = pd.read_csv(filename,\n",
    "                         sep='@',  # Assume the file is delimited by '@'\n",
    "                         engine='python',  # Use the Python engine for parsing\n",
    "                         header=None,  # No header in the file\n",
    "                         names=['sentence', 'label'],  # Define column names\n",
    "                         encoding='latin1')  # Set file encoding\n",
    "        print('Total number of records in the file:', df.shape[0])\n",
    "        \n",
    "        # Remove duplicate rows\n",
    "        df.drop_duplicates(inplace=True)\n",
    "        print('Total number of records after dropping duplicates:', df.shape[0])\n",
    "        \n",
    "        # Check for missing values in the 'label' column\n",
    "        print('Missing labels:', df['label'].isnull().sum())\n",
    "        \n",
    "        # Reset the index\n",
    "        df.reset_index(inplace=True, drop=True)\n",
    "        \n",
    "        return df\n",
    "    except FileNotFoundError:\n",
    "        print(f\"File not found: {filename}\")\n",
    "    except Exception as e:\n",
    "        print(f\"An error occurred while reading the file: {e}\")\n",
    "\n",
    "# Call the function to load the data\n",
    "df_finphrase = load_finphrase(filename)\n",
    "\n",
    "# Display the results\n",
    "if df_finphrase is not None:\n",
    "    print(df_finphrase.head())"
   ]
  },
  {
   "cell_type": "code",
   "execution_count": 24,
   "metadata": {},
   "outputs": [
    {
     "data": {
      "text/html": [
       "<div>\n",
       "<style scoped>\n",
       "    .dataframe tbody tr th:only-of-type {\n",
       "        vertical-align: middle;\n",
       "    }\n",
       "\n",
       "    .dataframe tbody tr th {\n",
       "        vertical-align: top;\n",
       "    }\n",
       "\n",
       "    .dataframe thead th {\n",
       "        text-align: right;\n",
       "    }\n",
       "</style>\n",
       "<table border=\"1\" class=\"dataframe\">\n",
       "  <thead>\n",
       "    <tr style=\"text-align: right;\">\n",
       "      <th></th>\n",
       "      <th>sentence</th>\n",
       "      <th>label</th>\n",
       "    </tr>\n",
       "  </thead>\n",
       "  <tbody>\n",
       "    <tr>\n",
       "      <th>0</th>\n",
       "      <td>According to Gran , the company has no plans t...</td>\n",
       "      <td>neutral</td>\n",
       "    </tr>\n",
       "    <tr>\n",
       "      <th>1</th>\n",
       "      <td>With the new production plant the company woul...</td>\n",
       "      <td>positive</td>\n",
       "    </tr>\n",
       "    <tr>\n",
       "      <th>2</th>\n",
       "      <td>For the last quarter of 2010 , Componenta 's n...</td>\n",
       "      <td>positive</td>\n",
       "    </tr>\n",
       "    <tr>\n",
       "      <th>3</th>\n",
       "      <td>In the third quarter of 2010 , net sales incre...</td>\n",
       "      <td>positive</td>\n",
       "    </tr>\n",
       "    <tr>\n",
       "      <th>4</th>\n",
       "      <td>Operating profit rose to EUR 13.1 mn from EUR ...</td>\n",
       "      <td>positive</td>\n",
       "    </tr>\n",
       "    <tr>\n",
       "      <th>...</th>\n",
       "      <td>...</td>\n",
       "      <td>...</td>\n",
       "    </tr>\n",
       "    <tr>\n",
       "      <th>3443</th>\n",
       "      <td>Operating result for the 12-month period decre...</td>\n",
       "      <td>negative</td>\n",
       "    </tr>\n",
       "    <tr>\n",
       "      <th>3444</th>\n",
       "      <td>HELSINKI Thomson Financial - Shares in Cargote...</td>\n",
       "      <td>negative</td>\n",
       "    </tr>\n",
       "    <tr>\n",
       "      <th>3445</th>\n",
       "      <td>LONDON MarketWatch -- Share prices ended lower...</td>\n",
       "      <td>negative</td>\n",
       "    </tr>\n",
       "    <tr>\n",
       "      <th>3446</th>\n",
       "      <td>Operating profit fell to EUR 35.4 mn from EUR ...</td>\n",
       "      <td>negative</td>\n",
       "    </tr>\n",
       "    <tr>\n",
       "      <th>3447</th>\n",
       "      <td>Sales in Finland decreased by 10.5 % in Januar...</td>\n",
       "      <td>negative</td>\n",
       "    </tr>\n",
       "  </tbody>\n",
       "</table>\n",
       "<p>3448 rows × 2 columns</p>\n",
       "</div>"
      ],
      "text/plain": [
       "                                               sentence     label\n",
       "0     According to Gran , the company has no plans t...   neutral\n",
       "1     With the new production plant the company woul...  positive\n",
       "2     For the last quarter of 2010 , Componenta 's n...  positive\n",
       "3     In the third quarter of 2010 , net sales incre...  positive\n",
       "4     Operating profit rose to EUR 13.1 mn from EUR ...  positive\n",
       "...                                                 ...       ...\n",
       "3443  Operating result for the 12-month period decre...  negative\n",
       "3444  HELSINKI Thomson Financial - Shares in Cargote...  negative\n",
       "3445  LONDON MarketWatch -- Share prices ended lower...  negative\n",
       "3446  Operating profit fell to EUR 35.4 mn from EUR ...  negative\n",
       "3447  Sales in Finland decreased by 10.5 % in Januar...  negative\n",
       "\n",
       "[3448 rows x 2 columns]"
      ]
     },
     "execution_count": 24,
     "metadata": {},
     "output_type": "execute_result"
    }
   ],
   "source": [
    "df_finphrase"
   ]
  },
  {
   "cell_type": "code",
   "execution_count": 26,
   "metadata": {},
   "outputs": [
    {
     "name": "stdout",
     "output_type": "stream",
     "text": [
      "Original data samples:\n",
      "                                            sentence     label  label_encoded\n",
      "0  According to Gran , the company has no plans t...   neutral              1\n",
      "1  With the new production plant the company woul...  positive              2\n",
      "\n",
      "Train/Test Set Statistics:\n",
      "Training set samples: 2758 (80.0%)\n",
      "Test set samples: 690 (20.0%)\n",
      "\n",
      "Training set label distribution:\n",
      "label_encoded\n",
      "0     336\n",
      "1    1713\n",
      "2     709\n",
      "Name: count, dtype: int64\n",
      "Test set label distribution:\n",
      "label_encoded\n",
      "0     84\n",
      "1    428\n",
      "2    178\n",
      "Name: count, dtype: int64\n",
      "\n",
      "Label encoding mapping:\n",
      "0 -> negative\n",
      "1 -> neutral\n",
      "2 -> positive\n"
     ]
    }
   ],
   "source": [
    "import pandas as pd\n",
    "from sklearn.model_selection import train_test_split\n",
    "from sklearn.preprocessing import LabelEncoder\n",
    "\n",
    "# Load data (ensure data cleaning steps have been performed)\n",
    "# df_finphrase = load_finphrase(filename)\n",
    "\n",
    "# Inspect data samples\n",
    "print(\"Original data samples:\")\n",
    "print(df_finphrase.head(2))\n",
    "\n",
    "# Label Encoding (Convert text labels to numerical values)\n",
    "le = LabelEncoder()\n",
    "df_finphrase['label_encoded'] = le.fit_transform(df_finphrase['label'])\n",
    "\n",
    "# Split dataset into train/test sets with stratified sampling\n",
    "X = df_finphrase['sentence']  # Text features\n",
    "y = df_finphrase['label_encoded']  # Encoded labels\n",
    "\n",
    "# Perform stratified split\n",
    "X_train, X_test, y_train, y_test = train_test_split(\n",
    "    X,\n",
    "    y,\n",
    "    test_size=0.2,  # 20% for test set (adjustable)\n",
    "    stratify=y,     # Preserve class distribution\n",
    "    random_state=42 # Reproducible results\n",
    ")\n",
    "\n",
    "# Display split statistics\n",
    "print(\"\\nTrain/Test Set Statistics:\")\n",
    "print(f\"Training set samples: {len(X_train)} ({len(X_train)/len(X):.1%})\")\n",
    "print(f\"Test set samples: {len(X_test)} ({len(X_test)/len(X):.1%})\")\n",
    "\n",
    "# Show class distribution\n",
    "print(\"\\nTraining set label distribution:\")\n",
    "print(pd.Series(y_train).value_counts().sort_index())\n",
    "print(\"Test set label distribution:\")\n",
    "print(pd.Series(y_test).value_counts().sort_index())\n",
    "\n",
    "# Display label encoding mapping\n",
    "print(\"\\nLabel encoding mapping:\")\n",
    "for i, label in enumerate(le.classes_):\n",
    "    print(f\"{i} -> {label}\")"
   ]
  },
  {
   "cell_type": "code",
   "execution_count": 32,
   "metadata": {},
   "outputs": [
    {
     "data": {
      "text/plain": [
       "label\n",
       "neutral     0.620940\n",
       "positive    0.257251\n",
       "negative    0.121810\n",
       "Name: proportion, dtype: float64"
      ]
     },
     "execution_count": 32,
     "metadata": {},
     "output_type": "execute_result"
    }
   ],
   "source": [
    "# check the distribution of the labels \n",
    "df_finphrase['label'].value_counts(normalize=True)"
   ]
  },
  {
   "cell_type": "code",
   "execution_count": 35,
   "metadata": {},
   "outputs": [
    {
     "data": {
      "text/plain": [
       "<Axes: xlabel='label'>"
      ]
     },
     "execution_count": 35,
     "metadata": {},
     "output_type": "execute_result"
    },
    {
     "data": {
      "image/png": "[encoded data removed]",
      "text/plain": [
       "<Figure size 640x480 with 1 Axes>"
      ]
     },
     "metadata": {},
     "output_type": "display_data"
    }
   ],
   "source": [
    "# view the distribution of the labels\n",
    "df_finphrase['label'].value_counts().plot(kind='bar', color='skyblue')"
   ]
  },
  {
   "cell_type": "code",
   "execution_count": 41,
   "metadata": {},
   "outputs": [
    {
     "data": {
      "text/plain": [
       "<Axes: ylabel='Frequency'>"
      ]
     },
     "execution_count": 41,
     "metadata": {},
     "output_type": "execute_result"
    },
    {
     "data": {
      "image/png": "[encoded data removed]",
      "text/plain": [
       "<Figure size 640x480 with 1 Axes>"
      ]
     },
     "metadata": {},
     "output_type": "display_data"
    }
   ],
   "source": [
    "# view the word chang du of the sentences,use matplotlib\n",
    "df_finphrase['sentence'].apply(lambda x: len(x.split())).plot(kind='hist', color='skyblue')\n"
   ]
  }
 ],
 "metadata": {
  "kernelspec": {
   "display_name": "pytorch",
   "language": "python",
   "name": "python3"
  },
  "language_info": {
   "codemirror_mode": {
    "name": "ipython",
    "version": 3
   },
   "file_extension": ".py",
   "mimetype": "text/x-python",
   "name": "python",
   "nbconvert_exporter": "python",
   "pygments_lexer": "ipython3",
   "version": "3.9.21"
  }
 },
 "nbformat": 4,
 "nbformat_minor": 2
}
